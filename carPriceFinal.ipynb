{
 "cells": [
  {
   "cell_type": "markdown",
   "id": "da714305",
   "metadata": {},
   "source": [
    "# Importing Library"
   ]
  },
  {
   "cell_type": "code",
   "execution_count": 1,
   "id": "8094a3ea",
   "metadata": {},
   "outputs": [],
   "source": [
    "import numpy as np\n",
    "import pandas as pd\n",
    "\n",
    "import seaborn as sns\n",
    "from matplotlib import pyplot as plt\n",
    "%matplotlib inline"
   ]
  },
  {
   "cell_type": "markdown",
   "id": "4a296f72",
   "metadata": {},
   "source": [
    "# Data Preparation"
   ]
  },
  {
   "cell_type": "code",
   "execution_count": 2,
   "id": "9dcdf0ad",
   "metadata": {},
   "outputs": [
    {
     "data": {
      "text/html": [
       "<div>\n",
       "<style scoped>\n",
       "    .dataframe tbody tr th:only-of-type {\n",
       "        vertical-align: middle;\n",
       "    }\n",
       "\n",
       "    .dataframe tbody tr th {\n",
       "        vertical-align: top;\n",
       "    }\n",
       "\n",
       "    .dataframe thead th {\n",
       "        text-align: right;\n",
       "    }\n",
       "</style>\n",
       "<table border=\"1\" class=\"dataframe\">\n",
       "  <thead>\n",
       "    <tr style=\"text-align: right;\">\n",
       "      <th></th>\n",
       "      <th>Make</th>\n",
       "      <th>Model</th>\n",
       "      <th>Year</th>\n",
       "      <th>Engine Fuel Type</th>\n",
       "      <th>Engine HP</th>\n",
       "      <th>Engine Cylinders</th>\n",
       "      <th>Transmission Type</th>\n",
       "      <th>Driven_Wheels</th>\n",
       "      <th>Number of Doors</th>\n",
       "      <th>Market Category</th>\n",
       "      <th>Vehicle Size</th>\n",
       "      <th>Vehicle Style</th>\n",
       "      <th>highway MPG</th>\n",
       "      <th>city mpg</th>\n",
       "      <th>Popularity</th>\n",
       "      <th>MSRP</th>\n",
       "    </tr>\n",
       "  </thead>\n",
       "  <tbody>\n",
       "    <tr>\n",
       "      <th>0</th>\n",
       "      <td>BMW</td>\n",
       "      <td>1 Series M</td>\n",
       "      <td>2011</td>\n",
       "      <td>premium unleaded (required)</td>\n",
       "      <td>335.0</td>\n",
       "      <td>6.0</td>\n",
       "      <td>MANUAL</td>\n",
       "      <td>rear wheel drive</td>\n",
       "      <td>2.0</td>\n",
       "      <td>Factory Tuner,Luxury,High-Performance</td>\n",
       "      <td>Compact</td>\n",
       "      <td>Coupe</td>\n",
       "      <td>26</td>\n",
       "      <td>19</td>\n",
       "      <td>3916</td>\n",
       "      <td>46135</td>\n",
       "    </tr>\n",
       "    <tr>\n",
       "      <th>1</th>\n",
       "      <td>BMW</td>\n",
       "      <td>1 Series</td>\n",
       "      <td>2011</td>\n",
       "      <td>premium unleaded (required)</td>\n",
       "      <td>300.0</td>\n",
       "      <td>6.0</td>\n",
       "      <td>MANUAL</td>\n",
       "      <td>rear wheel drive</td>\n",
       "      <td>2.0</td>\n",
       "      <td>Luxury,Performance</td>\n",
       "      <td>Compact</td>\n",
       "      <td>Convertible</td>\n",
       "      <td>28</td>\n",
       "      <td>19</td>\n",
       "      <td>3916</td>\n",
       "      <td>40650</td>\n",
       "    </tr>\n",
       "    <tr>\n",
       "      <th>2</th>\n",
       "      <td>BMW</td>\n",
       "      <td>1 Series</td>\n",
       "      <td>2011</td>\n",
       "      <td>premium unleaded (required)</td>\n",
       "      <td>300.0</td>\n",
       "      <td>6.0</td>\n",
       "      <td>MANUAL</td>\n",
       "      <td>rear wheel drive</td>\n",
       "      <td>2.0</td>\n",
       "      <td>Luxury,High-Performance</td>\n",
       "      <td>Compact</td>\n",
       "      <td>Coupe</td>\n",
       "      <td>28</td>\n",
       "      <td>20</td>\n",
       "      <td>3916</td>\n",
       "      <td>36350</td>\n",
       "    </tr>\n",
       "  </tbody>\n",
       "</table>\n",
       "</div>"
      ],
      "text/plain": [
       "  Make       Model  Year             Engine Fuel Type  Engine HP  \\\n",
       "0  BMW  1 Series M  2011  premium unleaded (required)      335.0   \n",
       "1  BMW    1 Series  2011  premium unleaded (required)      300.0   \n",
       "2  BMW    1 Series  2011  premium unleaded (required)      300.0   \n",
       "\n",
       "   Engine Cylinders Transmission Type     Driven_Wheels  Number of Doors  \\\n",
       "0               6.0            MANUAL  rear wheel drive              2.0   \n",
       "1               6.0            MANUAL  rear wheel drive              2.0   \n",
       "2               6.0            MANUAL  rear wheel drive              2.0   \n",
       "\n",
       "                         Market Category Vehicle Size Vehicle Style  \\\n",
       "0  Factory Tuner,Luxury,High-Performance      Compact         Coupe   \n",
       "1                     Luxury,Performance      Compact   Convertible   \n",
       "2                Luxury,High-Performance      Compact         Coupe   \n",
       "\n",
       "   highway MPG  city mpg  Popularity   MSRP  \n",
       "0           26        19        3916  46135  \n",
       "1           28        19        3916  40650  \n",
       "2           28        20        3916  36350  "
      ]
     },
     "execution_count": 2,
     "metadata": {},
     "output_type": "execute_result"
    }
   ],
   "source": [
    "df = pd.read_csv('data.csv')\n",
    "df.head(n = 3)"
   ]
  },
  {
   "cell_type": "code",
   "execution_count": 5,
   "id": "c8a94a35",
   "metadata": {},
   "outputs": [],
   "source": [
    "# Formatting column name\n",
    "df.columns = df.columns.str.lower().str.replace(' ', '_')\n",
    "\n",
    "# Formatting object type values\n",
    "strings = list(df.dtypes[df.dtypes == 'object'].index)\n",
    "for col in strings:\n",
    "    df[col] = df[col].str.lower().str.replace(' ', '_')"
   ]
  },
  {
   "cell_type": "markdown",
   "id": "43fb180d",
   "metadata": {},
   "source": [
    "# Exploratory data analysis"
   ]
  },
  {
   "cell_type": "code",
   "execution_count": 16,
   "id": "914d8174",
   "metadata": {
    "scrolled": false
   },
   "outputs": [
    {
     "name": "stdout",
     "output_type": "stream",
     "text": [
      "make\n",
      "['bmw' 'audi' 'fiat' 'mercedes-benz' 'chrysler']\n",
      "48\n",
      "\n",
      "model\n",
      "['1_series_m' '1_series' '100' '124_spider' '190-class']\n",
      "914\n",
      "\n",
      "year\n",
      "[2011 2012 2013 1992 1993]\n",
      "28\n",
      "\n",
      "engine_fuel_type\n",
      "['premium_unleaded_(required)' 'regular_unleaded'\n",
      " 'premium_unleaded_(recommended)' 'flex-fuel_(unleaded/e85)' 'diesel']\n",
      "10\n",
      "\n",
      "engine_hp\n",
      "[335. 300. 230. 320. 172.]\n",
      "356\n",
      "\n",
      "engine_cylinders\n",
      "[ 6.  4.  5.  8. 12.]\n",
      "9\n",
      "\n",
      "transmission_type\n",
      "['manual' 'automatic' 'automated_manual' 'direct_drive' 'unknown']\n",
      "5\n",
      "\n",
      "driven_wheels\n",
      "['rear_wheel_drive' 'front_wheel_drive' 'all_wheel_drive'\n",
      " 'four_wheel_drive']\n",
      "4\n",
      "\n",
      "number_of_doors\n",
      "[ 2.  4.  3. nan]\n",
      "3\n",
      "\n",
      "market_category\n",
      "['factory_tuner,luxury,high-performance' 'luxury,performance'\n",
      " 'luxury,high-performance' 'luxury' 'performance']\n",
      "71\n",
      "\n",
      "vehicle_size\n",
      "['compact' 'midsize' 'large']\n",
      "3\n",
      "\n",
      "vehicle_style\n",
      "['coupe' 'convertible' 'sedan' 'wagon' '4dr_hatchback']\n",
      "16\n",
      "\n",
      "highway_mpg\n",
      "[26 28 27 25 24]\n",
      "59\n",
      "\n",
      "city_mpg\n",
      "[19 20 18 17 16]\n",
      "69\n",
      "\n",
      "popularity\n",
      "[3916 3105  819  617 1013]\n",
      "48\n",
      "\n",
      "msrp\n",
      "[46135 40650 36350 29450 34500]\n",
      "6049\n",
      "\n"
     ]
    }
   ],
   "source": [
    "for col in df.columns:\n",
    "    print(col)\n",
    "    print(df[col].unique()[:5])\n",
    "    print(df[col].nunique())\n",
    "    print()"
   ]
  },
  {
   "cell_type": "markdown",
   "id": "3b1cd38a",
   "metadata": {},
   "source": [
    "# Distribution of price"
   ]
  },
  {
   "cell_type": "code",
   "execution_count": 17,
   "id": "446f1aaa",
   "metadata": {},
   "outputs": [
    {
     "data": {
      "text/plain": [
       "<Axes: xlabel='msrp', ylabel='Count'>"
      ]
     },
     "execution_count": 17,
     "metadata": {},
     "output_type": "execute_result"
    },
    {
     "data": {
      "image/png": "[encoded data removed]",
      "text/plain": [
       "<Figure size 640x480 with 1 Axes>"
      ]
     },
     "metadata": {},
     "output_type": "display_data"
    }
   ],
   "source": [
    "sns.histplot(df.msrp, bins = 50)"
   ]
  },
  {
   "cell_type": "code",
   "execution_count": 18,
   "id": "9a65515f",
   "metadata": {},
   "outputs": [
    {
     "data": {
      "text/plain": [
       "<Axes: xlabel='msrp', ylabel='Count'>"
      ]
     },
     "execution_count": 18,
     "metadata": {},
     "output_type": "execute_result"
    },
    {
     "data": {
      "image/png": "[encoded data removed]",
      "text/plain": [
       "<Figure size 640x480 with 1 Axes>"
      ]
     },
     "metadata": {},
     "output_type": "display_data"
    }
   ],
   "source": [
    "sns.histplot(df.msrp[df.msrp < 100000], bins = 50)"
   ]
  },
  {
   "cell_type": "markdown",
   "id": "97bc90f9",
   "metadata": {},
   "source": [
    "#### There is a long tail in the distribution. It will confuse our ML model. To get rid of the problem, we will use logarithmic distribution."
   ]
  },
  {
   "cell_type": "code",
   "execution_count": 19,
   "id": "b9d32805",
   "metadata": {},
   "outputs": [
    {
     "data": {
      "text/plain": [
       "0        10.739349\n",
       "1        10.612779\n",
       "2        10.500977\n",
       "3        10.290483\n",
       "4        10.448744\n",
       "           ...    \n",
       "11909    10.739024\n",
       "11910    10.945018\n",
       "11911    10.832122\n",
       "11912    10.838031\n",
       "11913    10.274913\n",
       "Name: msrp, Length: 11914, dtype: float64"
      ]
     },
     "execution_count": 19,
     "metadata": {},
     "output_type": "execute_result"
    }
   ],
   "source": [
    "price_logs = np.log1p(df.msrp)\n",
    "price_logs"
   ]
  },
  {
   "cell_type": "code",
   "execution_count": 20,
   "id": "51207367",
   "metadata": {},
   "outputs": [
    {
     "data": {
      "text/plain": [
       "<Axes: ylabel='Count'>"
      ]
     },
     "execution_count": 20,
     "metadata": {},
     "output_type": "execute_result"
    },
    {
     "data": {
      "image/png": "[encoded data removed]",
      "text/plain": [
       "<Figure size 640x480 with 1 Axes>"
      ]
     },
     "metadata": {},
     "output_type": "display_data"
    }
   ],
   "source": [
    "sns.histplot(price_logs.values, bins = 50)"
   ]
  },
  {
   "cell_type": "markdown",
   "id": "b2f0a97c",
   "metadata": {},
   "source": [
    "#### This is called the normal distribution. This kind of distribution is ideal for the ML model. In this case of distribution, model performs well."
   ]
  },
  {
   "cell_type": "markdown",
   "id": "1ec8bec5",
   "metadata": {},
   "source": [
    "# Setting Up the Validation framework"
   ]
  },
  {
   "cell_type": "code",
   "execution_count": 34,
   "id": "1696dc81",
   "metadata": {},
   "outputs": [],
   "source": [
    "n = len(df)\n",
    "n_val = int(n * 0.2)\n",
    "n_test = int(n * 0.2)\n",
    "n_train = n - (n_val + n_test)\n",
    "\n",
    "np.random.seed(2)\n",
    "idx = np.arange(n)\n",
    "np.random.shuffle(idx)\n",
    "\n",
    "df_shuffled = df.iloc[idx]\n",
    "\n",
    "df_train = df_shuffled.iloc[:n_train]\n",
    "df_val = df_shuffled.iloc[n_train:n_train + n_val]\n",
    "df_test = df_shuffled.iloc[n_train + n_val:]\n",
    "\n",
    "df_train = df_train.reset_index(drop = True)\n",
    "df_val = df_val.reset_index(drop = True)\n",
    "df_test = df_test.reset_index(drop = True)\n",
    "\n",
    "y_train = np.log1p(df_train.msrp.values)\n",
    "y_val = np.log1p(df_val.msrp.values)\n",
    "y_test = np.log1p(df_test.msrp.values)\n",
    "\n",
    "del df_train['msrp']\n",
    "del df_val['msrp']\n",
    "del df_test['msrp']"
   ]
  },
  {
   "cell_type": "markdown",
   "id": "67bf940d",
   "metadata": {},
   "source": [
    "# Linear Regression"
   ]
  },
  {
   "cell_type": "code",
   "execution_count": 48,
   "id": "a87790f1",
   "metadata": {},
   "outputs": [],
   "source": [
    "X = [\n",
    "    [148, 24, 1385],\n",
    "    [132, 25, 2031],\n",
    "    [453, 11, 86],\n",
    "    [158, 24, 185],\n",
    "    [172, 25, 201],\n",
    "    [413, 11, 86],\n",
    "    [38,  54, 185],\n",
    "    [142, 25, 431],\n",
    "    [453, 31, 86]\n",
    "]\n",
    "X = np.array(X)\n",
    "y = [10000, 20000, 15000, 20050, 10000, 20000, 15000, 25000, 12000]"
   ]
  },
  {
   "cell_type": "code",
   "execution_count": 49,
   "id": "1faa355f",
   "metadata": {},
   "outputs": [],
   "source": [
    "def TrainLinearRegression(X, y):\n",
    "    ones = np.ones(X.shape[0])\n",
    "    X = np.column_stack([ones, X])\n",
    "    \n",
    "    XTX = X.T.dot(X)\n",
    "    XTX_inv = np.linalg.inv(XTX)\n",
    "    w_full = XTX_inv.dot(X.T).dot(y)\n",
    "    \n",
    "    w0 = w_full[0]\n",
    "    w = w_full[1:]\n",
    "    return w0, w"
   ]
  },
  {
   "cell_type": "code",
   "execution_count": 50,
   "id": "890bcfd0",
   "metadata": {},
   "outputs": [
    {
     "data": {
      "text/plain": [
       "(25844.75405576679, array([ -16.08906468, -199.47254894,   -1.22802883]))"
      ]
     },
     "execution_count": 50,
     "metadata": {},
     "output_type": "execute_result"
    }
   ],
   "source": [
    "w0, w = TrainLinearRegression(X, y)\n",
    "w0, w"
   ]
  },
  {
   "cell_type": "markdown",
   "id": "9bcc2c2b",
   "metadata": {},
   "source": [
    "# Car price baseline model"
   ]
  },
  {
   "cell_type": "code",
   "execution_count": 66,
   "id": "b83ef827",
   "metadata": {},
   "outputs": [],
   "source": [
    "base = ['engine_hp', 'engine_cylinders', 'highway_mpg',\n",
    "        'city_mpg', 'popularity']"
   ]
  },
  {
   "cell_type": "code",
   "execution_count": 69,
   "id": "3bd011bc",
   "metadata": {},
   "outputs": [
    {
     "data": {
      "text/plain": [
       "engine_hp           40\n",
       "engine_cylinders    14\n",
       "highway_mpg          0\n",
       "city_mpg             0\n",
       "popularity           0\n",
       "dtype: int64"
      ]
     },
     "execution_count": 69,
     "metadata": {},
     "output_type": "execute_result"
    }
   ],
   "source": [
    "df_train[base].isnull().sum()"
   ]
  },
  {
   "cell_type": "code",
   "execution_count": 73,
   "id": "00b5f42e",
   "metadata": {},
   "outputs": [],
   "source": [
    "def prepare_x(df):\n",
    "    df = df.copy()\n",
    "    for col in base:\n",
    "        df[col].fillna(df[col].median(), inplace = True)\n",
    "    \n",
    "    X = df[base].values\n",
    "    return X"
   ]
  },
  {
   "cell_type": "code",
   "execution_count": 76,
   "id": "20aecaf2",
   "metadata": {},
   "outputs": [
    {
     "data": {
      "text/plain": [
       "array([ 9.52427764,  9.34947071,  9.60391562, ..., 10.32059171,\n",
       "       11.90854663, 10.00234003])"
      ]
     },
     "execution_count": 76,
     "metadata": {},
     "output_type": "execute_result"
    }
   ],
   "source": [
    "X_train = prepare_x(df_train)\n",
    "w0, w = TrainLinearRegression(X_train, y_train)\n",
    "y_pred = w0 + X_train.dot(w)\n",
    "y_pred"
   ]
  },
  {
   "cell_type": "code",
   "execution_count": 77,
   "id": "55bee182",
   "metadata": {},
   "outputs": [
    {
     "data": {
      "text/plain": [
       "<Axes: ylabel='Count'>"
      ]
     },
     "execution_count": 77,
     "metadata": {},
     "output_type": "execute_result"
    },
    {
     "data": {
      "image/png": "[encoded data removed]",
      "text/plain": [
       "<Figure size 640x480 with 1 Axes>"
      ]
     },
     "metadata": {},
     "output_type": "display_data"
    }
   ],
   "source": [
    "sns.histplot(y_pred, bins = 50, color = 'red', alpha = 0.5)\n",
    "sns.histplot(y_train, bins = 50, color = 'blue', alpha = 0.5)"
   ]
  },
  {
   "cell_type": "markdown",
   "id": "578111f1",
   "metadata": {},
   "source": [
    "# RMSE"
   ]
  },
  {
   "cell_type": "code",
   "execution_count": 78,
   "id": "7e7565ed",
   "metadata": {},
   "outputs": [],
   "source": [
    "def rmse(y, y_pred):\n",
    "    error = y - y_pred\n",
    "    se = error ** 2\n",
    "    mse = se.mean()\n",
    "    return np.sqrt(mse)"
   ]
  },
  {
   "cell_type": "markdown",
   "id": "c3d6550f",
   "metadata": {},
   "source": [
    "# Validating the model"
   ]
  },
  {
   "cell_type": "code",
   "execution_count": 80,
   "id": "b98c13d0",
   "metadata": {},
   "outputs": [
    {
     "data": {
      "text/plain": [
       "0.7496911329574685"
      ]
     },
     "execution_count": 80,
     "metadata": {},
     "output_type": "execute_result"
    }
   ],
   "source": [
    "X_train = prepare_x(df_train)\n",
    "w0, w = TrainLinearRegression(X_train, y_train)\n",
    "\n",
    "X_val = prepare_x(df_val)\n",
    "y_pred = w0 + X_val.dot(w)\n",
    "\n",
    "rmse(y_pred, y_val)"
   ]
  },
  {
   "cell_type": "markdown",
   "id": "58f04030",
   "metadata": {},
   "source": [
    "# Simple Feature Engineering"
   ]
  },
  {
   "cell_type": "code",
   "execution_count": 108,
   "id": "0b92a524",
   "metadata": {},
   "outputs": [],
   "source": [
    "def prepare_x(df):\n",
    "    df = df.copy()\n",
    "    features = base.copy()\n",
    "    \n",
    "    for col in features:\n",
    "        df[col].fillna(df[col].median(), inplace = True)\n",
    "        \n",
    "    features.append('age')\n",
    "    df['age'] = df.year.max() - df.year\n",
    "    \n",
    "    X = df[features].values\n",
    "    return X"
   ]
  },
  {
   "cell_type": "code",
   "execution_count": 109,
   "id": "806e558d",
   "metadata": {},
   "outputs": [
    {
     "data": {
      "text/plain": [
       "0.507459491281787"
      ]
     },
     "execution_count": 109,
     "metadata": {},
     "output_type": "execute_result"
    }
   ],
   "source": [
    "X_train = prepare_x(df_train)\n",
    "X_trainX_train = prepare_x(df_train)\n",
    "w0, w = TrainLinearRegression(X_train, y_train)\n",
    "\n",
    "X_val = prepare_x(df_val)\n",
    "y_pred = w0 + X_val.dot(w)\n",
    "\n",
    "rmse(y_val, y_pred)"
   ]
  },
  {
   "cell_type": "code",
   "execution_count": 100,
   "id": "991481d1",
   "metadata": {},
   "outputs": [
    {
     "data": {
      "text/plain": [
       "<Axes: ylabel='Count'>"
      ]
     },
     "execution_count": 100,
     "metadata": {},
     "output_type": "execute_result"
    },
    {
     "data": {
      "image/png": "[encoded data removed]",
      "text/plain": [
       "<Figure size 640x480 with 1 Axes>"
      ]
     },
     "metadata": {},
     "output_type": "display_data"
    }
   ],
   "source": [
    "sns.histplot(y_pred, color = 'red', alpha = 0.5, bins = 50)\n",
    "sns.histplot(y_val, color = 'blue', alpha = 0.5, bins = 50)"
   ]
  },
  {
   "cell_type": "markdown",
   "id": "7a53b56a",
   "metadata": {},
   "source": [
    "# Categorical Variables"
   ]
  },
  {
   "cell_type": "code",
   "execution_count": 131,
   "id": "47375ae4",
   "metadata": {},
   "outputs": [],
   "source": [
    "def prepare_x(df):\n",
    "    df = df.copy()\n",
    "    features = base.copy()\n",
    "    \n",
    "    # Handling missing values\n",
    "    for col in features:\n",
    "        df[col].fillna(df[col].median(), inplace = True)\n",
    "        \n",
    "    valueCount = df['number_of_doors'].value_counts()\n",
    "    maxValue = valueCount.index[0]\n",
    "    df['number_of_doors'].fillna(maxValue)\n",
    "    \n",
    "    # Adding age as feature   \n",
    "    features.append('age')\n",
    "    df['age'] = df.year.max() - df.year\n",
    "    \n",
    "    # Adding number_of_doors as feature\n",
    "    for value in [2., 3., 4.]:\n",
    "        df[f'number_of_doors_{value}'] = (df.number_of_doors == value).astype('int')\n",
    "        features.append(f'number_of_doors_{value}')\n",
    "    \n",
    "    X = df[features].values\n",
    "    return X"
   ]
  },
  {
   "cell_type": "code",
   "execution_count": 132,
   "id": "c230d732",
   "metadata": {},
   "outputs": [
    {
     "data": {
      "text/plain": [
       "0.506362042647631"
      ]
     },
     "execution_count": 132,
     "metadata": {},
     "output_type": "execute_result"
    }
   ],
   "source": [
    "X_train = prepare_x(df_train)\n",
    "w0, w = TrainLinearRegression(X_train, y_train)\n",
    "\n",
    "X_val = prepare_x(df_val)\n",
    "y_pred = w0 + X_val.dot(w)\n",
    "\n",
    "rmse(y_val, y_pred)"
   ]
  },
  {
   "cell_type": "code",
   "execution_count": 115,
   "id": "fabb32a7",
   "metadata": {},
   "outputs": [
    {
     "data": {
      "text/plain": [
       "6"
      ]
     },
     "execution_count": 115,
     "metadata": {},
     "output_type": "execute_result"
    }
   ],
   "source": [
    "df_train['number_of_doors'].isnull().sum()"
   ]
  },
  {
   "cell_type": "markdown",
   "id": "98c6394a",
   "metadata": {},
   "source": [
    "# Add more catagorical variable as features"
   ]
  },
  {
   "cell_type": "code",
   "execution_count": 133,
   "id": "8d5352c4",
   "metadata": {},
   "outputs": [
    {
     "data": {
      "text/plain": [
       "['make',\n",
       " 'engine_fuel_type',\n",
       " 'transmission_type',\n",
       " 'driven_wheels',\n",
       " 'market_category',\n",
       " 'vehicle_size',\n",
       " 'vehicle_style']"
      ]
     },
     "execution_count": 133,
     "metadata": {},
     "output_type": "execute_result"
    }
   ],
   "source": [
    "categorical_variables = ['make', 'engine_fuel_type', 'transmission_type',\n",
    "'driven_wheels', 'market_category', 'vehicle_size', 'vehicle_style']\n",
    "\n",
    "categorical_variables"
   ]
  },
  {
   "cell_type": "code",
   "execution_count": 139,
   "id": "dc057aa6",
   "metadata": {},
   "outputs": [],
   "source": [
    "categories = {}\n",
    "for c in categorical_variables:\n",
    "    categories[c] = list(df[c].value_counts().head().index)"
   ]
  },
  {
   "cell_type": "code",
   "execution_count": 144,
   "id": "800db345",
   "metadata": {},
   "outputs": [
    {
     "name": "stdout",
     "output_type": "stream",
     "text": [
      "1123 chevrolet\n",
      "7172 regular_unleaded\n",
      "8266 automatic\n",
      "4787 front_wheel_drive\n",
      "1110 crossover\n",
      "4764 compact\n",
      "3048 sedan\n"
     ]
    }
   ],
   "source": [
    "for c in categorical_variables:\n",
    "    valueCount = df[c].value_counts()\n",
    "    print(valueCount[0], valueCount.index[0])"
   ]
  },
  {
   "cell_type": "code",
   "execution_count": 145,
   "id": "46982294",
   "metadata": {},
   "outputs": [],
   "source": [
    "def prepare_x(df):\n",
    "    df = df.copy()\n",
    "    features = base.copy()\n",
    "    \n",
    "    # Handling missing values\n",
    "    for col in features:\n",
    "        df[col].fillna(df[col].median(), inplace = True)\n",
    "        \n",
    "    valueCount = df['number_of_doors'].value_counts()\n",
    "    maxValue = valueCount.index[0]\n",
    "    df['number_of_doors'].fillna(maxValue)\n",
    "    \n",
    "    \n",
    "    for c in categorical_variables:\n",
    "        valueCount = df[c].value_counts()\n",
    "        maxValue = valueCount.index[0]\n",
    "        df[c].fillna(maxValue)\n",
    "    \n",
    "    # Adding age as feature   \n",
    "    features.append('age')\n",
    "    df['age'] = df.year.max() - df.year\n",
    "    \n",
    "    # Adding number_of_doors as feature\n",
    "    for value in [2., 3., 4.]:\n",
    "        df[f'number_of_doors_{value}'] = (df.number_of_doors == value).astype('int')\n",
    "        features.append(f'number_of_doors_{value}')\n",
    "    \n",
    "    for cat, values in categories.items():\n",
    "        for val in values:\n",
    "            df[f'{cat}_{val}'] = (df[cat] == val).astype('int')\n",
    "            features.append(f'{cat}_{val}')\n",
    "    \n",
    "    X = df[features].values\n",
    "    return X"
   ]
  },
  {
   "cell_type": "code",
   "execution_count": 146,
   "id": "a2718736",
   "metadata": {},
   "outputs": [
    {
     "data": {
      "text/plain": [
       "63.34305306277777"
      ]
     },
     "execution_count": 146,
     "metadata": {},
     "output_type": "execute_result"
    }
   ],
   "source": [
    "X_train = prepare_x(df_train)\n",
    "w0, w = TrainLinearRegression(X_train, y_train)\n",
    "\n",
    "X_val = prepare_x(df_val)\n",
    "y_pred = w0 + X_val.dot(w)\n",
    "\n",
    "rmse(y_val, y_pred)"
   ]
  },
  {
   "cell_type": "markdown",
   "id": "11733915",
   "metadata": {},
   "source": [
    "#### The values of w0 and w and much much bigger. We have added more features to our model to improve RMSE. But it gives a large RMSE. Why did this happen?\n",
    "#### Sometimes in XTX, there can be duplicate rows. If duplicate rows exist then the inverse matrix does not exist. If exists (these rows are not actually duplicated, just differ for a small value),  the inverse matrix gives a very large or small value. That imbalanced our model prediction more. To get rid of the problem we need regularization. We add a small number with the diagonal element."
   ]
  },
  {
   "cell_type": "markdown",
   "id": "06035040",
   "metadata": {},
   "source": [
    "# Regularization"
   ]
  },
  {
   "cell_type": "markdown",
   "id": "dae7dfd6",
   "metadata": {},
   "source": [
    "#### We add a small amount with diagonal element and get smaller value. The larger the value we add, then we have more control over our result. It does not grow too much\n",
    "\n",
    "#### Now we can re-implement our TrainLinearRegression(X, y) using regularization"
   ]
  },
  {
   "cell_type": "code",
   "execution_count": 147,
   "id": "cd4bc038",
   "metadata": {},
   "outputs": [],
   "source": [
    "def TrainLinearRegressionReg(X, y, r = 0.001):\n",
    "    ones = np.ones(X.shape[0])\n",
    "    X = np.column_stack([ones, X])\n",
    "    \n",
    "    XTX = X.T.dot(X)\n",
    "    XTX = XTX + r * np.eye(XTX.shape[0])\n",
    "    \n",
    "    XTX_inv = np.linalg.inv(XTX)\n",
    "    w_full = XTX_inv.dot(X.T).dot(y)\n",
    "    \n",
    "    w0 = w_full[0]\n",
    "    w = w_full[1:]\n",
    "    \n",
    "    return w0, w"
   ]
  },
  {
   "cell_type": "code",
   "execution_count": 159,
   "id": "7f4e5fb3",
   "metadata": {},
   "outputs": [
    {
     "data": {
      "text/plain": [
       "0.45513524587302373"
      ]
     },
     "execution_count": 159,
     "metadata": {},
     "output_type": "execute_result"
    }
   ],
   "source": [
    "X_train = prepare_x(df_train)\n",
    "w0, w = TrainLinearRegressionReg(X_train, y_train)\n",
    "\n",
    "X_val = prepare_x(df_val)\n",
    "y_pred = w0 + X_val.dot(w)\n",
    "\n",
    "rmse(y_val, y_pred)"
   ]
  },
  {
   "cell_type": "markdown",
   "id": "df6e2e98",
   "metadata": {},
   "source": [
    "# Tuning the model"
   ]
  },
  {
   "cell_type": "code",
   "execution_count": 161,
   "id": "ca355ed4",
   "metadata": {},
   "outputs": [
    {
     "name": "stdout",
     "output_type": "stream",
     "text": [
      "1 5.537516993322395 0.4558058886293077\n",
      "10 4.217419548989644 0.46730753565591204\n",
      "20 3.731770613212091 0.4802996232792599\n",
      "0.0 4.055308365008181e+16 63.34305306277777\n",
      "0.1 6.084938978660621 0.4551856612691902\n",
      "0.01 6.168859347677552 0.4551396244542939\n",
      "0.001 6.1776056292586 0.45513524587302373\n",
      "1e-05 4.9147653273003495 0.4551347710499665\n",
      "1e-07 -13132.429941397702 0.4551362508143005\n"
     ]
    }
   ],
   "source": [
    "for r in [1, 10, 20, 0.0, 0.1, 0.01, 0.001, 0.00001, 0.0000001]:\n",
    "    X_train = prepare_x(df_train)\n",
    "    w0, w = TrainLinearRegressionReg(X_train, y_train, r)\n",
    "\n",
    "    X_val = prepare_x(df_val)\n",
    "    y_pred = w0 + X_val.dot(w)\n",
    "\n",
    "    error = rmse(y_val, y_pred)\n",
    "    print(r, w0, error)\n",
    "    "
   ]
  },
  {
   "cell_type": "markdown",
   "id": "170f64cc",
   "metadata": {},
   "source": [
    "# Using the model"
   ]
  },
  {
   "cell_type": "code",
   "execution_count": 167,
   "id": "2f8d63a3",
   "metadata": {},
   "outputs": [],
   "source": [
    "df_full_train = pd.concat([df_train, df_val])\n",
    "df_full_train = df_full_train.reset_index(drop = True)\n",
    "\n",
    "y_full_train = np.concatenate([y_train, y_val])"
   ]
  },
  {
   "cell_type": "code",
   "execution_count": 169,
   "id": "ae158224",
   "metadata": {},
   "outputs": [
    {
     "data": {
      "text/plain": [
       "0.45127515428613246"
      ]
     },
     "execution_count": 169,
     "metadata": {},
     "output_type": "execute_result"
    }
   ],
   "source": [
    "r = 0.001\n",
    "X_full_train = prepare_x(df_full_train)\n",
    "w0, w = TrainLinearRegressionReg(X_full_train, y_full_train, r)\n",
    "\n",
    "X_test = prepare_x(df_test)\n",
    "y_pred = w0 + X_test.dot(w)\n",
    "\n",
    "error = rmse(y_test, y_pred)\n",
    "error"
   ]
  },
  {
   "cell_type": "code",
   "execution_count": 170,
   "id": "f94048a3",
   "metadata": {},
   "outputs": [
    {
     "data": {
      "text/plain": [
       "<Axes: ylabel='Count'>"
      ]
     },
     "execution_count": 170,
     "metadata": {},
     "output_type": "execute_result"
    },
    {
     "data": {
      "image/png": "[encoded data removed]",
      "text/plain": [
       "<Figure size 640x480 with 1 Axes>"
      ]
     },
     "metadata": {},
     "output_type": "display_data"
    }
   ],
   "source": [
    "sns.histplot(y_pred, color = 'red', alpha = 0.5, bins = 50)\n",
    "sns.histplot(y_test, color = 'blue', alpha = 0.5, bins = 50)"
   ]
  },
  {
   "cell_type": "markdown",
   "id": "fb847fca",
   "metadata": {},
   "source": [
    "### Now let's predict the price of a car"
   ]
  },
  {
   "cell_type": "code",
   "execution_count": 179,
   "id": "b5394e70",
   "metadata": {},
   "outputs": [
    {
     "data": {
      "text/plain": [
       "{'make': 'dodge',\n",
       " 'model': 'caravan',\n",
       " 'year': 2006,\n",
       " 'engine_fuel_type': 'regular_unleaded',\n",
       " 'engine_hp': 150.0,\n",
       " 'engine_cylinders': 4.0,\n",
       " 'transmission_type': 'automatic',\n",
       " 'driven_wheels': 'front_wheel_drive',\n",
       " 'number_of_doors': 4.0,\n",
       " 'market_category': 'flex_fuel',\n",
       " 'vehicle_size': 'large',\n",
       " 'vehicle_style': 'passenger_minivan',\n",
       " 'highway_mpg': 24,\n",
       " 'city_mpg': 17,\n",
       " 'popularity': 1851}"
      ]
     },
     "execution_count": 179,
     "metadata": {},
     "output_type": "execute_result"
    }
   ],
   "source": [
    "car = df_test.iloc[21].to_dict()\n",
    "car"
   ]
  },
  {
   "cell_type": "code",
   "execution_count": 182,
   "id": "bbe9acde",
   "metadata": {
    "scrolled": false
   },
   "outputs": [
    {
     "name": "stdout",
     "output_type": "stream",
     "text": [
      "29508.66472323623 35000.00000000001\n"
     ]
    }
   ],
   "source": [
    "df_small = pd.DataFrame([car])\n",
    "X_small = prepare_x(df_small)\n",
    "y_pred = w0 + X_small.dot(w)\n",
    "price = y_pred[0]\n",
    "\n",
    "print(np.expm1(price), np.expm1(y_test[20]))"
   ]
  },
  {
   "cell_type": "code",
   "execution_count": 175,
   "id": "af87d3e8",
   "metadata": {},
   "outputs": [],
   "source": [
    "def prepare_x(df):\n",
    "    df = df.copy()\n",
    "    features = base.copy()\n",
    "    \n",
    "    # Handling missing values\n",
    "    for col in features:\n",
    "        df[col].fillna(df[col].median(), inplace = True)\n",
    "        \n",
    "    valueCount = df['number_of_doors'].value_counts()\n",
    "    maxValue = valueCount.index[0]\n",
    "    df['number_of_doors'].fillna(maxValue, inplace = True)\n",
    "    \n",
    "    \n",
    "    for c in categorical_variables:\n",
    "        valueCount = df[c].value_counts()\n",
    "        maxValue = valueCount.index[0]\n",
    "        df[c].fillna(maxValue)\n",
    "    \n",
    "    # Adding age as feature   \n",
    "    features.append('age')\n",
    "    df['age'] = df.year.max() - df.year\n",
    "    \n",
    "    # Adding number_of_doors as feature\n",
    "    for value in [2., 3., 4.]:\n",
    "        df[f'number_of_doors_{value}'] = (df.number_of_doors == value).astype('int')\n",
    "        features.append(f'number_of_doors_{value}')\n",
    "    \n",
    "    for cat, values in categories.items():\n",
    "        for val in values:\n",
    "            df[f'{cat}_{val}'] = (df[cat] == val).astype('int')\n",
    "            features.append(f'{cat}_{val}')\n",
    "    \n",
    "    X = df[features].values\n",
    "    return X"
   ]
  },
  {
   "cell_type": "code",
   "execution_count": null,
   "id": "3db22f6f",
   "metadata": {},
   "outputs": [],
   "source": []
  }
 ],
 "metadata": {
  "kernelspec": {
   "display_name": "Python 3 (ipykernel)",
   "language": "python",
   "name": "python3"
  },
  "language_info": {
   "codemirror_mode": {
    "name": "ipython",
    "version": 3
   },
   "file_extension": ".py",
   "mimetype": "text/x-python",
   "name": "python",
   "nbconvert_exporter": "python",
   "pygments_lexer": "ipython3",
   "version": "3.11.4"
  }
 },
 "nbformat": 4,
 "nbformat_minor": 5
}
